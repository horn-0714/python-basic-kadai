{
  "cells": [
    {
      "cell_type": "code",
      "execution_count": 1,
      "metadata": {
        "colab": {
          "base_uri": "https://localhost:8080/"
        },
        "id": "nyKJbaF49VTZ",
        "outputId": "abd1446c-6a5a-4898-87e0-e5624cb6524c"
      },
      "outputs": [
        {
          "name": "stdout",
          "output_type": "stream",
          "text": [
            "75.0cm²\n"
          ]
        }
      ],
      "source": [
        "top_edge = 10\n",
        "bottom_edge = 20\n",
        "trapezoid_hight = 5\n",
        "\n",
        "area = (top_edge + bottom_edge) * trapezoid_hight / 2  # 台形の面積を計算し、変数に代入\n",
        "\n",
        "print(str(area) + \"cm²\")  # 計算結果を出力"
      ]
    }
  ],
  "metadata": {
    "colab": {
      "provenance": []
    },
    "kernelspec": {
      "display_name": "Python 3",
      "name": "python3"
    },
    "language_info": {
      "name": "python"
    }
  },
  "nbformat": 4,
  "nbformat_minor": 0
}
