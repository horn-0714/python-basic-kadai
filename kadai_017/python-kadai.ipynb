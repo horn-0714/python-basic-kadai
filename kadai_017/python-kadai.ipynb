{
  "nbformat": 4,
  "nbformat_minor": 0,
  "metadata": {
    "colab": {
      "provenance": []
    },
    "kernelspec": {
      "name": "python3",
      "display_name": "Python 3"
    },
    "language_info": {
      "name": "python"
    }
  },
  "cells": [
    {
      "cell_type": "code",
      "execution_count": 1,
      "metadata": {
        "colab": {
          "base_uri": "https://localhost:8080/"
        },
        "id": "NiAoI8jx_XtL",
        "outputId": "fd24b01a-daae-4997-ed89-27342bdd212e"
      },
      "outputs": [
        {
          "output_type": "stream",
          "name": "stdout",
          "text": [
            "太郎 さんは大人ではありません。\n",
            "大五郎 さんは大人です。\n",
            "小五郎 さんは大人です。\n"
          ]
        }
      ],
      "source": [
        "class Human:\n",
        "  def __init__(self, name, age):\n",
        "    self.name = name\n",
        "    self.age = age\n",
        "\n",
        "# 成人かどうかを判定するメソッド\n",
        "  def check_adult (self):\n",
        "    if self.age >= 20:\n",
        "      print(f\"{self.name} さんは大人です。\")\n",
        "    else:\n",
        "       print(f\"{self.name} さんは大人ではありません。\")\n",
        "\n",
        "# Humanクラスのインスタンスを複数作成\n",
        "human1 = Human(\"太郎\", 10)\n",
        "human2 = Human(\"大五郎\", 20)\n",
        "human3 = Human(\"小五郎\", 30)\n",
        "\n",
        "people = [human1, human2, human3]\n",
        "for human in people:\n",
        "               human. check_adult()"
      ]
    }
  ]
}