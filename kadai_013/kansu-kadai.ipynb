{
  "cells": [
    {
      "cell_type": "code",
      "execution_count": null,
      "metadata": {
        "colab": {
          "base_uri": "https://localhost:8080/"
        },
        "id": "AZ1US918xrh8",
        "outputId": "62295e99-56b9-4055-f7df-397033582925"
      },
      "outputs": [],
      "source": [
        "def calculate_tax(price, rate):\n",
        "\n",
        "    # 与えられた引数priceと引数rateを加算し、変数total_priceに代入する\n",
        "    total_price = price + (price * rate / 100)\n",
        "\n",
        "    # 変数total_priceの値を出力する\n",
        "    return (f\"{total_price}円\")\n",
        "\n",
        "# 関数を呼び出し、引数として購入金額と消費税の割合を渡す\n",
        "calculate_tax(100, 10)\n",
        "print(calculate_tax(100, 10))"
      ]
    }
  ],
  "metadata": {
    "colab": {
      "provenance": []
    },
    "kernelspec": {
      "display_name": "Python 3",
      "name": "python3"
    },
    "language_info": {
      "name": "python"
    }
  },
  "nbformat": 4,
  "nbformat_minor": 0
}
