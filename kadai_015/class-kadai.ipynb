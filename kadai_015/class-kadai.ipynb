{
  "nbformat": 4,
  "nbformat_minor": 0,
  "metadata": {
    "colab": {
      "provenance": []
    },
    "kernelspec": {
      "name": "python3",
      "display_name": "Python 3"
    },
    "language_info": {
      "name": "python"
    }
  },
  "cells": [
    {
      "cell_type": "code",
      "source": [
        "class Human:\n",
        "    # コンストラクタを定義する\n",
        "    def __init__(self, name, age):\n",
        "        self.name = name\n",
        "        self.age = age\n",
        "\n",
        "    # 属性を出力するメソッドを定義する\n",
        "    def printinfo(self):\n",
        "        print(\"名前:\", self.name)\n",
        "        print(\"年齢:\", self.age)\n",
        "\n",
        "\n",
        "# インスタンス化する\n",
        "human = Human(\"侍太郎\", 36)\n",
        "\n",
        "# メソッドを使って情報を出力する\n",
        "human.printinfo()"
      ],
      "metadata": {
        "colab": {
          "base_uri": "https://localhost:8080/"
        },
        "id": "nF2d3RnbbsQc",
        "outputId": "f54c3d8a-884b-4300-fb07-465a4ad0143b"
      },
      "execution_count": 2,
      "outputs": [
        {
          "output_type": "stream",
          "name": "stdout",
          "text": [
            "名前: 侍太郎\n",
            "年齢: 36\n"
          ]
        }
      ]
    }
  ]
}