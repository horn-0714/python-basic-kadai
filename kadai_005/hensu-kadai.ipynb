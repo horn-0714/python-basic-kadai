{
  "cells": [
    {
      "cell_type": "code",
      "execution_count": null,
      "metadata": {
        "colab": {
          "base_uri": "https://localhost:8080/"
        },
        "id": "nyKJbaF49VTZ",
        "outputId": "277f7b27-5604-419a-c3cd-af9eda9e6add"
      },
      "outputs": [
        {
          "name": "stdout",
          "output_type": "stream",
          "text": [
            "75.0cm\n"
          ]
        }
      ],
      "source": [
        "top_edge = 10\n",
        "bottom_edge = 20\n",
        "trapezoid_hight = 5\n",
        "\n",
        "area = (top_edge + bottom_edge) * trapezoid_hight / 2  # 台形の面積を計算し、変数に代入\n",
        "\n",
        "print(str(area) + \"cm²\")  # 計算結果を出力"
      ]
    }
  ],
  "metadata": {
    "colab": {
      "provenance": [],
      "toc_visible": true
    },
    "kernelspec": {
      "display_name": "Python 3",
      "name": "python3"
    },
    "language_info": {
      "name": "python"
    }
  },
  "nbformat": 4,
  "nbformat_minor": 0
}
