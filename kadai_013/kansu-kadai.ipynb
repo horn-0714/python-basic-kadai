{
  "nbformat": 4,
  "nbformat_minor": 0,
  "metadata": {
    "colab": {
      "provenance": []
    },
    "kernelspec": {
      "name": "python3",
      "display_name": "Python 3"
    },
    "language_info": {
      "name": "python"
    }
  },
  "cells": [
    {
      "cell_type": "code",
      "execution_count": 1,
      "metadata": {
        "colab": {
          "base_uri": "https://localhost:8080/"
        },
        "id": "AZ1US918xrh8",
        "outputId": "62295e99-56b9-4055-f7df-397033582925"
      },
      "outputs": [
        {
          "output_type": "stream",
          "name": "stdout",
          "text": [
            "11.0円\n"
          ]
        }
      ],
      "source": [
        "def calculate_tax(price, rate):\n",
        "\n",
        "    # 与えられた引数priceと引数rateを加算し、変数taxに代入する\n",
        "    tax = price * rate / 100\n",
        "\n",
        "    # 変数taxの値を出力する\n",
        "    print(f\"{tax}円\")\n",
        "\n",
        "# 関数を呼び出し、引数として購入金額と消費税の割合を渡す\n",
        "calculate_tax(110, 10)"
      ]
    }
  ]
}