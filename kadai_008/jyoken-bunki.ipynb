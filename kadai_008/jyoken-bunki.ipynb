{
  "nbformat": 4,
  "nbformat_minor": 0,
  "metadata": {
    "colab": {
      "provenance": []
    },
    "kernelspec": {
      "name": "python3",
      "display_name": "Python 3"
    },
    "language_info": {
      "name": "python"
    }
  },
  "cells": [
    {
      "cell_type": "code",
      "execution_count": 3,
      "metadata": {
        "colab": {
          "base_uri": "https://localhost:8080/"
        },
        "id": "HfZ4IvchKhJA",
        "outputId": "3b84f446-2776-46d3-a6e4-27710120f2dd"
      },
      "outputs": [
        {
          "output_type": "stream",
          "name": "stdout",
          "text": [
            "30\n",
            "FizzBuzz\n"
          ]
        }
      ],
      "source": [
        "import random\n",
        "\n",
        "var = random.randint(0,100) #正の整数は0～100とする\n",
        "print(var)\n",
        "\n",
        "if var % 3 == 0 and var % 5 == 0:\n",
        "  print(\"FizzBuzz\") #3の倍数かつ5の倍数であるとき\n",
        "elif var % 3 == 0:\n",
        "  print(\"Fizz\") #3の倍数であるとき\n",
        "elif var % 5 == 0:\n",
        "  print(\"Buzz\") #5の倍数であるとき\n",
        "else:\n",
        "  print(var) #それ以外"
      ]
    }
  ]
}